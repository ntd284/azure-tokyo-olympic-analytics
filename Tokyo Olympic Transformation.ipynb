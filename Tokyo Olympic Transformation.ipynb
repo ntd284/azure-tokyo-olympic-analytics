{
 "cells": [
  {
   "cell_type": "code",
   "execution_count": 0,
   "metadata": {
    "application/vnd.databricks.v1+cell": {
     "cellMetadata": {
      "byteLimit": 2048000,
      "rowLimit": 10000
     },
     "inputWidgets": {},
     "nuid": "6edda864-569b-4d32-a917-1e1ae42c51f8",
     "showTitle": false,
     "tableResultSettingsMap": {},
     "title": ""
    }
   },
   "outputs": [
    {
     "data": {
      "text/html": [
       "\n",
       "            <div>\n",
       "                <p><b>SparkSession - hive</b></p>\n",
       "                \n",
       "        <div>\n",
       "            <p><b>SparkContext</b></p>\n",
       "\n",
       "            <p><a href=\"/?o=4458823265724492#setting/sparkui/1122-062539-e21amg1z/driver-8886745624307395614\">Spark UI</a></p>\n",
       "\n",
       "            <dl>\n",
       "              <dt>Version</dt>\n",
       "                <dd><code>v3.5.0</code></dd>\n",
       "              <dt>Master</dt>\n",
       "                <dd><code>local[*, 4]</code></dd>\n",
       "              <dt>AppName</dt>\n",
       "                <dd><code>Databricks Shell</code></dd>\n",
       "            </dl>\n",
       "        </div>\n",
       "        \n",
       "            </div>\n",
       "        "
      ],
      "text/plain": [
       "<pyspark.sql.session.SparkSession at 0x7f60576e2e10>"
      ]
     },
     "execution_count": 1,
     "metadata": {},
     "output_type": "execute_result"
    }
   ],
   "source": [
    "spark"
   ]
  },
  {
   "cell_type": "code",
   "execution_count": 0,
   "metadata": {
    "application/vnd.databricks.v1+cell": {
     "cellMetadata": {
      "byteLimit": 2048000,
      "rowLimit": 10000
     },
     "inputWidgets": {},
     "nuid": "d5355e47-d0e3-48e8-b4fa-00a63b428dc4",
     "showTitle": false,
     "tableResultSettingsMap": {},
     "title": ""
    }
   },
   "outputs": [],
   "source": [
    "configs = {\"fs.azure.account.auth.type\": \"OAuth\",\n",
    "\"fs.azure.account.oauth.provider.type\": \"org.apache.hadoop.fs.azurebfs.oauth2.ClientCredsTokenProvider\",\n",
    "\"fs.azure.account.oauth2.client.id\": \" \",\n",
    "\"fs.azure.account.oauth2.client.secret\": ' ',\n",
    "\"fs.azure.account.oauth2.client.endpoint\": \"https://login.microsoftonline.com/ /oauth2/token\"}\n",
    "\n",
    "dbutils.fs.mount(\n",
    "source = \"abfss://olympic-data-container@olympicdatastorages.dfs.core.windows.net\", # contrainer@storageacc\n",
    "mount_point = \"/mnt/tokyo-olympic\",\n",
    "extra_configs = configs)"
   ]
  },
  {
   "cell_type": "code",
   "execution_count": 0,
   "metadata": {
    "application/vnd.databricks.v1+cell": {
     "cellMetadata": {
      "byteLimit": 2048000,
      "rowLimit": 10000
     },
     "inputWidgets": {},
     "nuid": "76dbb02f-0e05-4ee7-a6e8-a6ce0ba4afe7",
     "showTitle": false,
     "tableResultSettingsMap": {},
     "title": ""
    }
   },
   "outputs": [
    {
     "data": {
      "text/html": [
       "<style scoped>\n",
       "  .table-result-container {\n",
       "    max-height: 300px;\n",
       "    overflow: auto;\n",
       "  }\n",
       "  table, th, td {\n",
       "    border: 1px solid black;\n",
       "    border-collapse: collapse;\n",
       "  }\n",
       "  th, td {\n",
       "    padding: 5px;\n",
       "  }\n",
       "  th {\n",
       "    text-align: left;\n",
       "  }\n",
       "</style><div class='table-result-container'><table class='table-result'><thead style='background-color: white'><tr><th>path</th><th>name</th><th>size</th><th>modificationTime</th></tr></thead><tbody><tr><td>dbfs:/mnt/tokyo-olympic/Raw-data/</td><td>Raw-data/</td><td>0</td><td>1732249562000</td></tr><tr><td>dbfs:/mnt/tokyo-olympic/Transformed-data/</td><td>Transformed-data/</td><td>0</td><td>1732249572000</td></tr></tbody></table></div>"
      ]
     },
     "metadata": {
      "application/vnd.databricks.v1+output": {
       "addedWidgets": {},
       "aggData": [],
       "aggError": "",
       "aggOverflow": false,
       "aggSchema": [],
       "aggSeriesLimitReached": false,
       "aggType": "",
       "arguments": {},
       "columnCustomDisplayInfos": {},
       "data": [
        [
         "dbfs:/mnt/tokyo-olympic/Raw-data/",
         "Raw-data/",
         0,
         1732249562000
        ],
        [
         "dbfs:/mnt/tokyo-olympic/Transformed-data/",
         "Transformed-data/",
         0,
         1732249572000
        ]
       ],
       "datasetInfos": [],
       "dbfsResultPath": null,
       "isJsonSchema": true,
       "metadata": {
        "isDbfsCommandResult": false
       },
       "overflow": false,
       "plotOptions": {
        "customPlotOptions": {},
        "displayType": "table",
        "pivotAggregation": null,
        "pivotColumns": null,
        "xColumns": null,
        "yColumns": null
       },
       "removedWidgets": [],
       "schema": [
        {
         "metadata": "{}",
         "name": "path",
         "type": "\"string\""
        },
        {
         "metadata": "{}",
         "name": "name",
         "type": "\"string\""
        },
        {
         "metadata": "{}",
         "name": "size",
         "type": "\"long\""
        },
        {
         "metadata": "{}",
         "name": "modificationTime",
         "type": "\"long\""
        }
       ],
       "type": "table"
      }
     },
     "output_type": "display_data"
    }
   ],
   "source": [
    "%fs\n",
    "ls \"/mnt/tokyo-olympic\""
   ]
  },
  {
   "cell_type": "code",
   "execution_count": 0,
   "metadata": {
    "application/vnd.databricks.v1+cell": {
     "cellMetadata": {
      "byteLimit": 2048000,
      "rowLimit": 10000
     },
     "inputWidgets": {},
     "nuid": "958149da-9b03-4f1d-a2d9-336584210387",
     "showTitle": false,
     "tableResultSettingsMap": {},
     "title": ""
    }
   },
   "outputs": [],
   "source": [
    "athletes = spark.read.format(\"csv\").option(\"header\",\"true\").option('inferSchema','True').load(\"/mnt/tokyo-olympic/Raw-data/athletes.csv\")\n",
    "coaches = spark.read.format(\"csv\").option(\"header\",\"true\").option('inferSchema','True').load(\"/mnt/tokyo-olympic/Raw-data/coaches.csv\")\n",
    "entriesgender = spark.read.format(\"csv\").option(\"header\",\"true\").option('inferSchema','True').load(\"/mnt/tokyo-olympic/Raw-data/entriesgender.csv\")\n",
    "medals = spark.read.format(\"csv\").option(\"header\",\"true\").option('inferSchema','True').load(\"/mnt/tokyo-olympic/Raw-data/medals.csv\")\n",
    "teams = spark.read.format(\"csv\").option(\"header\",\"true\").option('inferSchema','True').load(\"/mnt/tokyo-olympic/Raw-data/teams.csv\")"
   ]
  },
  {
   "cell_type": "code",
   "execution_count": 0,
   "metadata": {
    "application/vnd.databricks.v1+cell": {
     "cellMetadata": {
      "byteLimit": 2048000,
      "rowLimit": 10000
     },
     "inputWidgets": {},
     "nuid": "70da3b03-a746-4e75-8afe-7a06289c607d",
     "showTitle": false,
     "tableResultSettingsMap": {},
     "title": ""
    }
   },
   "outputs": [
    {
     "name": "stdout",
     "output_type": "stream",
     "text": [
      "+--------------------+------+----+-----+\n",
      "|          Discipline|Female|Male|Total|\n",
      "+--------------------+------+----+-----+\n",
      "|      3x3 Basketball|    32|  32|   64|\n",
      "|             Archery|    64|  64|  128|\n",
      "| Artistic Gymnastics|    98|  98|  196|\n",
      "|   Artistic Swimming|   105|   0|  105|\n",
      "|           Athletics|   969|1072| 2041|\n",
      "|           Badminton|    86|  87|  173|\n",
      "|   Baseball/Softball|    90| 144|  234|\n",
      "|          Basketball|   144| 144|  288|\n",
      "|    Beach Volleyball|    48|  48|   96|\n",
      "|              Boxing|   102| 187|  289|\n",
      "|        Canoe Slalom|    41|  41|   82|\n",
      "|        Canoe Sprint|   123| 126|  249|\n",
      "|Cycling BMX Frees...|    10|   9|   19|\n",
      "|  Cycling BMX Racing|    24|  24|   48|\n",
      "|Cycling Mountain ...|    38|  38|   76|\n",
      "|        Cycling Road|    70| 131|  201|\n",
      "|       Cycling Track|    90|  99|  189|\n",
      "|              Diving|    72|  71|  143|\n",
      "|          Equestrian|    73| 125|  198|\n",
      "|             Fencing|   107| 108|  215|\n",
      "+--------------------+------+----+-----+\n",
      "only showing top 20 rows\n",
      "\n"
     ]
    }
   ],
   "source": [
    "display(entriesgender)"
   ]
  },
  {
   "cell_type": "code",
   "execution_count": 0,
   "metadata": {
    "application/vnd.databricks.v1+cell": {
     "cellMetadata": {
      "byteLimit": 2048000,
      "rowLimit": 10000
     },
     "inputWidgets": {},
     "nuid": "f1bee462-7bd4-4f76-b279-61f7a684db7e",
     "showTitle": false,
     "tableResultSettingsMap": {},
     "title": ""
    }
   },
   "outputs": [
    {
     "name": "stdout",
     "output_type": "stream",
     "text": [
      "+--------------------+----+\n",
      "|         TeamCountry|Gold|\n",
      "+--------------------+----+\n",
      "|United States of ...|  39|\n",
      "|People's Republic...|  38|\n",
      "|               Japan|  27|\n",
      "|       Great Britain|  22|\n",
      "|                 ROC|  20|\n",
      "|           Australia|  17|\n",
      "|         Netherlands|  10|\n",
      "|              France|  10|\n",
      "|             Germany|  10|\n",
      "|               Italy|  10|\n",
      "|                Cuba|   7|\n",
      "|         New Zealand|   7|\n",
      "|              Brazil|   7|\n",
      "|              Canada|   7|\n",
      "|             Hungary|   6|\n",
      "|   Republic of Korea|   6|\n",
      "|               Kenya|   4|\n",
      "|              Poland|   4|\n",
      "|      Czech Republic|   4|\n",
      "|              Norway|   4|\n",
      "+--------------------+----+\n",
      "only showing top 20 rows\n",
      "\n"
     ]
    }
   ],
   "source": [
    "top_gold_medal_countries = medals.orderBy(\"Gold\",ascending=False).select(\"TeamCountry\",\"Gold\").show()"
   ]
  },
  {
   "cell_type": "code",
   "execution_count": 0,
   "metadata": {
    "application/vnd.databricks.v1+cell": {
     "cellMetadata": {
      "byteLimit": 2048000,
      "rowLimit": 10000
     },
     "inputWidgets": {},
     "nuid": "ceeb6f35-6225-42bc-989e-0295a7886c5d",
     "showTitle": false,
     "tableResultSettingsMap": {},
     "title": ""
    }
   },
   "outputs": [
    {
     "data": {
      "text/html": [
       "<style scoped>\n",
       "  .table-result-container {\n",
       "    max-height: 300px;\n",
       "    overflow: auto;\n",
       "  }\n",
       "  table, th, td {\n",
       "    border: 1px solid black;\n",
       "    border-collapse: collapse;\n",
       "  }\n",
       "  th, td {\n",
       "    padding: 5px;\n",
       "  }\n",
       "  th {\n",
       "    text-align: left;\n",
       "  }\n",
       "</style><div class='table-result-container'><table class='table-result'><thead style='background-color: white'><tr><th>Discipline</th><th>Female</th><th>Male</th><th>Total</th><th>Avg_Female</th><th>Avg_Male</th></tr></thead><tbody><tr><td>3x3 Basketball</td><td>32</td><td>32</td><td>64</td><td>0.5</td><td>0.5</td></tr><tr><td>Archery</td><td>64</td><td>64</td><td>128</td><td>0.5</td><td>0.5</td></tr><tr><td>Artistic Gymnastics</td><td>98</td><td>98</td><td>196</td><td>0.5</td><td>0.5</td></tr><tr><td>Artistic Swimming</td><td>105</td><td>0</td><td>105</td><td>1.0</td><td>0.0</td></tr><tr><td>Athletics</td><td>969</td><td>1072</td><td>2041</td><td>0.4747672709456149</td><td>0.5252327290543851</td></tr><tr><td>Badminton</td><td>86</td><td>87</td><td>173</td><td>0.49710982658959535</td><td>0.5028901734104047</td></tr><tr><td>Baseball/Softball</td><td>90</td><td>144</td><td>234</td><td>0.38461538461538464</td><td>0.6153846153846154</td></tr><tr><td>Basketball</td><td>144</td><td>144</td><td>288</td><td>0.5</td><td>0.5</td></tr><tr><td>Beach Volleyball</td><td>48</td><td>48</td><td>96</td><td>0.5</td><td>0.5</td></tr><tr><td>Boxing</td><td>102</td><td>187</td><td>289</td><td>0.35294117647058826</td><td>0.6470588235294118</td></tr><tr><td>Canoe Slalom</td><td>41</td><td>41</td><td>82</td><td>0.5</td><td>0.5</td></tr><tr><td>Canoe Sprint</td><td>123</td><td>126</td><td>249</td><td>0.4939759036144578</td><td>0.5060240963855421</td></tr><tr><td>Cycling BMX Freestyle</td><td>10</td><td>9</td><td>19</td><td>0.5263157894736842</td><td>0.47368421052631576</td></tr><tr><td>Cycling BMX Racing</td><td>24</td><td>24</td><td>48</td><td>0.5</td><td>0.5</td></tr><tr><td>Cycling Mountain Bike</td><td>38</td><td>38</td><td>76</td><td>0.5</td><td>0.5</td></tr><tr><td>Cycling Road</td><td>70</td><td>131</td><td>201</td><td>0.3482587064676617</td><td>0.6517412935323383</td></tr><tr><td>Cycling Track</td><td>90</td><td>99</td><td>189</td><td>0.47619047619047616</td><td>0.5238095238095238</td></tr><tr><td>Diving</td><td>72</td><td>71</td><td>143</td><td>0.5034965034965035</td><td>0.4965034965034965</td></tr><tr><td>Equestrian</td><td>73</td><td>125</td><td>198</td><td>0.3686868686868687</td><td>0.6313131313131313</td></tr><tr><td>Fencing</td><td>107</td><td>108</td><td>215</td><td>0.49767441860465117</td><td>0.5023255813953489</td></tr><tr><td>Football</td><td>264</td><td>344</td><td>608</td><td>0.4342105263157895</td><td>0.5657894736842105</td></tr><tr><td>Golf</td><td>60</td><td>60</td><td>120</td><td>0.5</td><td>0.5</td></tr><tr><td>Handball</td><td>168</td><td>168</td><td>336</td><td>0.5</td><td>0.5</td></tr><tr><td>Hockey</td><td>192</td><td>192</td><td>384</td><td>0.5</td><td>0.5</td></tr><tr><td>Judo</td><td>192</td><td>201</td><td>393</td><td>0.48854961832061067</td><td>0.5114503816793893</td></tr><tr><td>Karate</td><td>40</td><td>42</td><td>82</td><td>0.4878048780487805</td><td>0.5121951219512195</td></tr><tr><td>Marathon Swimming</td><td>25</td><td>25</td><td>50</td><td>0.5</td><td>0.5</td></tr><tr><td>Modern Pentathlon</td><td>36</td><td>36</td><td>72</td><td>0.5</td><td>0.5</td></tr><tr><td>Rhythmic Gymnastics</td><td>96</td><td>0</td><td>96</td><td>1.0</td><td>0.0</td></tr><tr><td>Rowing</td><td>257</td><td>265</td><td>522</td><td>0.49233716475095785</td><td>0.5076628352490421</td></tr><tr><td>Rugby Sevens</td><td>146</td><td>151</td><td>297</td><td>0.49158249158249157</td><td>0.5084175084175084</td></tr><tr><td>Sailing</td><td>175</td><td>175</td><td>350</td><td>0.5</td><td>0.5</td></tr><tr><td>Shooting</td><td>178</td><td>178</td><td>356</td><td>0.5</td><td>0.5</td></tr><tr><td>Skateboarding</td><td>40</td><td>40</td><td>80</td><td>0.5</td><td>0.5</td></tr><tr><td>Sport Climbing</td><td>20</td><td>20</td><td>40</td><td>0.5</td><td>0.5</td></tr><tr><td>Surfing</td><td>20</td><td>20</td><td>40</td><td>0.5</td><td>0.5</td></tr><tr><td>Swimming</td><td>361</td><td>418</td><td>779</td><td>0.4634146341463415</td><td>0.5365853658536586</td></tr><tr><td>Table Tennis</td><td>86</td><td>86</td><td>172</td><td>0.5</td><td>0.5</td></tr><tr><td>Taekwondo</td><td>65</td><td>65</td><td>130</td><td>0.5</td><td>0.5</td></tr><tr><td>Tennis</td><td>94</td><td>97</td><td>191</td><td>0.49214659685863876</td><td>0.5078534031413613</td></tr><tr><td>Trampoline Gymnastics</td><td>16</td><td>16</td><td>32</td><td>0.5</td><td>0.5</td></tr><tr><td>Triathlon</td><td>55</td><td>55</td><td>110</td><td>0.5</td><td>0.5</td></tr><tr><td>Volleyball</td><td>144</td><td>144</td><td>288</td><td>0.5</td><td>0.5</td></tr><tr><td>Water Polo</td><td>122</td><td>146</td><td>268</td><td>0.4552238805970149</td><td>0.5447761194029851</td></tr><tr><td>Weightlifting</td><td>98</td><td>99</td><td>197</td><td>0.49746192893401014</td><td>0.5025380710659898</td></tr><tr><td>Wrestling</td><td>96</td><td>193</td><td>289</td><td>0.33217993079584773</td><td>0.6678200692041523</td></tr></tbody></table></div>"
      ]
     },
     "metadata": {
      "application/vnd.databricks.v1+output": {
       "addedWidgets": {},
       "aggData": [],
       "aggError": "",
       "aggOverflow": false,
       "aggSchema": [],
       "aggSeriesLimitReached": false,
       "aggType": "",
       "arguments": {},
       "columnCustomDisplayInfos": {},
       "data": [
        [
         "3x3 Basketball",
         32,
         32,
         64,
         0.5,
         0.5
        ],
        [
         "Archery",
         64,
         64,
         128,
         0.5,
         0.5
        ],
        [
         "Artistic Gymnastics",
         98,
         98,
         196,
         0.5,
         0.5
        ],
        [
         "Artistic Swimming",
         105,
         0,
         105,
         1,
         0
        ],
        [
         "Athletics",
         969,
         1072,
         2041,
         0.4747672709456149,
         0.5252327290543851
        ],
        [
         "Badminton",
         86,
         87,
         173,
         0.49710982658959535,
         0.5028901734104047
        ],
        [
         "Baseball/Softball",
         90,
         144,
         234,
         0.38461538461538464,
         0.6153846153846154
        ],
        [
         "Basketball",
         144,
         144,
         288,
         0.5,
         0.5
        ],
        [
         "Beach Volleyball",
         48,
         48,
         96,
         0.5,
         0.5
        ],
        [
         "Boxing",
         102,
         187,
         289,
         0.35294117647058826,
         0.6470588235294118
        ],
        [
         "Canoe Slalom",
         41,
         41,
         82,
         0.5,
         0.5
        ],
        [
         "Canoe Sprint",
         123,
         126,
         249,
         0.4939759036144578,
         0.5060240963855421
        ],
        [
         "Cycling BMX Freestyle",
         10,
         9,
         19,
         0.5263157894736842,
         0.47368421052631576
        ],
        [
         "Cycling BMX Racing",
         24,
         24,
         48,
         0.5,
         0.5
        ],
        [
         "Cycling Mountain Bike",
         38,
         38,
         76,
         0.5,
         0.5
        ],
        [
         "Cycling Road",
         70,
         131,
         201,
         0.3482587064676617,
         0.6517412935323383
        ],
        [
         "Cycling Track",
         90,
         99,
         189,
         0.47619047619047616,
         0.5238095238095238
        ],
        [
         "Diving",
         72,
         71,
         143,
         0.5034965034965035,
         0.4965034965034965
        ],
        [
         "Equestrian",
         73,
         125,
         198,
         0.3686868686868687,
         0.6313131313131313
        ],
        [
         "Fencing",
         107,
         108,
         215,
         0.49767441860465117,
         0.5023255813953489
        ],
        [
         "Football",
         264,
         344,
         608,
         0.4342105263157895,
         0.5657894736842105
        ],
        [
         "Golf",
         60,
         60,
         120,
         0.5,
         0.5
        ],
        [
         "Handball",
         168,
         168,
         336,
         0.5,
         0.5
        ],
        [
         "Hockey",
         192,
         192,
         384,
         0.5,
         0.5
        ],
        [
         "Judo",
         192,
         201,
         393,
         0.48854961832061067,
         0.5114503816793893
        ],
        [
         "Karate",
         40,
         42,
         82,
         0.4878048780487805,
         0.5121951219512195
        ],
        [
         "Marathon Swimming",
         25,
         25,
         50,
         0.5,
         0.5
        ],
        [
         "Modern Pentathlon",
         36,
         36,
         72,
         0.5,
         0.5
        ],
        [
         "Rhythmic Gymnastics",
         96,
         0,
         96,
         1,
         0
        ],
        [
         "Rowing",
         257,
         265,
         522,
         0.49233716475095785,
         0.5076628352490421
        ],
        [
         "Rugby Sevens",
         146,
         151,
         297,
         0.49158249158249157,
         0.5084175084175084
        ],
        [
         "Sailing",
         175,
         175,
         350,
         0.5,
         0.5
        ],
        [
         "Shooting",
         178,
         178,
         356,
         0.5,
         0.5
        ],
        [
         "Skateboarding",
         40,
         40,
         80,
         0.5,
         0.5
        ],
        [
         "Sport Climbing",
         20,
         20,
         40,
         0.5,
         0.5
        ],
        [
         "Surfing",
         20,
         20,
         40,
         0.5,
         0.5
        ],
        [
         "Swimming",
         361,
         418,
         779,
         0.4634146341463415,
         0.5365853658536586
        ],
        [
         "Table Tennis",
         86,
         86,
         172,
         0.5,
         0.5
        ],
        [
         "Taekwondo",
         65,
         65,
         130,
         0.5,
         0.5
        ],
        [
         "Tennis",
         94,
         97,
         191,
         0.49214659685863876,
         0.5078534031413613
        ],
        [
         "Trampoline Gymnastics",
         16,
         16,
         32,
         0.5,
         0.5
        ],
        [
         "Triathlon",
         55,
         55,
         110,
         0.5,
         0.5
        ],
        [
         "Volleyball",
         144,
         144,
         288,
         0.5,
         0.5
        ],
        [
         "Water Polo",
         122,
         146,
         268,
         0.4552238805970149,
         0.5447761194029851
        ],
        [
         "Weightlifting",
         98,
         99,
         197,
         0.49746192893401014,
         0.5025380710659898
        ],
        [
         "Wrestling",
         96,
         193,
         289,
         0.33217993079584773,
         0.6678200692041523
        ]
       ],
       "datasetInfos": [],
       "dbfsResultPath": null,
       "isJsonSchema": true,
       "metadata": {},
       "overflow": false,
       "plotOptions": {
        "customPlotOptions": {},
        "displayType": "table",
        "pivotAggregation": null,
        "pivotColumns": null,
        "xColumns": null,
        "yColumns": null
       },
       "removedWidgets": [],
       "schema": [
        {
         "metadata": "{}",
         "name": "Discipline",
         "type": "\"string\""
        },
        {
         "metadata": "{}",
         "name": "Female",
         "type": "\"integer\""
        },
        {
         "metadata": "{}",
         "name": "Male",
         "type": "\"integer\""
        },
        {
         "metadata": "{}",
         "name": "Total",
         "type": "\"integer\""
        },
        {
         "metadata": "{}",
         "name": "Avg_Female",
         "type": "\"double\""
        },
        {
         "metadata": "{}",
         "name": "Avg_Male",
         "type": "\"double\""
        }
       ],
       "type": "table"
      }
     },
     "output_type": "display_data"
    }
   ],
   "source": [
    "average_entries_by_gender = entriesgender.withColumn(\n",
    "    'Avg_Female', entriesgender['Female'] / entriesgender['Total']\n",
    ").withColumn(\n",
    "    'Avg_Male', entriesgender['Male'] / entriesgender['Total']\n",
    ")\n",
    "display(average_entries_by_gender)"
   ]
  },
  {
   "cell_type": "code",
   "execution_count": 0,
   "metadata": {
    "application/vnd.databricks.v1+cell": {
     "cellMetadata": {
      "byteLimit": 2048000,
      "rowLimit": 10000
     },
     "inputWidgets": {},
     "nuid": "63df18c3-f274-4502-b82e-737d8c6c6699",
     "showTitle": false,
     "tableResultSettingsMap": {},
     "title": ""
    }
   },
   "outputs": [],
   "source": [
    "athletes.repartition(1).write.mode('overwrite').option(\"header\",\"true\").csv('/mnt/tokyo-olympic/Transformed-data/athletes')\n",
    "coaches.repartition(1).write.mode('overwrite').option(\"header\",\"true\").csv('/mnt/tokyo-olympic/Transformed-data/coaches')\n",
    "entriesgender.repartition(1).write.mode('overwrite').option(\"header\",\"true\").csv('/mnt/tokyo-olympic/Transformed-data/entriesgender')\n",
    "medals.repartition(1).write.mode('overwrite').option(\"header\",\"true\").csv('/mnt/tokyo-olympic/Transformed-data/medals')\n",
    "teams.repartition(1).write.mode('overwrite').option(\"header\",\"true\").csv('/mnt/tokyo-olympic/Transformed-data/teams')"
   ]
  }
 ],
 "metadata": {
  "application/vnd.databricks.v1+notebook": {
   "dashboards": [],
   "environmentMetadata": {
    "base_environment": "",
    "client": "1"
   },
   "language": "python",
   "notebookMetadata": {
    "mostRecentlyExecutedCommandWithImplicitDF": {
     "commandId": 1196881218488123,
     "dataframes": [
      "_sqldf"
     ]
    },
    "pythonIndentUnit": 4
   },
   "notebookName": "Tokyo Olympic Transformation",
   "widgets": {}
  },
  "language_info": {
   "name": "python"
  }
 },
 "nbformat": 4,
 "nbformat_minor": 0
}
